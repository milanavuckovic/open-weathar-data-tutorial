{
 "cells": [
  {
   "cell_type": "markdown",
   "metadata": {
    "slideshow": {
     "slide_type": "slide"
    }
   },
   "source": [
    "<img src=\"images/one_logo.png\" width=\"500\"/> \n",
    "\n",
    "# CDSAPI request examples  \n",
    "## ECMWF&Copernicus data webinar, 10 December 2020"
   ]
  },
  {
   "cell_type": "markdown",
   "metadata": {
    "slideshow": {
     "slide_type": "slide"
    }
   },
   "source": [
    "### A few tips before we begin"
   ]
  },
  {
   "cell_type": "markdown",
   "metadata": {
    "slideshow": {
     "slide_type": "fragment"
    }
   },
   "source": [
    "- Use CDS Web download to construct the base of your request and then build on it. \n",
    "- Reanalysis ERA5 data is originally stored in GRIB format and when you download it as netCDF, conversion will fail if there is more than one **Product type** in the request\n",
    "- Data that is originally stored as netCDF will be offered to be downloaded as zip or Compressed tar file. If you are downloading just one file (selected exactly one choice in every category) - change the extension to **.nc** (but leave format as zip)\n",
    "- For people who are used to using MARS archive - for keys that are the same as in MARS request (area, time and date for daily data) you can use mars syntax in some requests"
   ]
  },
  {
   "cell_type": "markdown",
   "metadata": {
    "slideshow": {
     "slide_type": "skip"
    }
   },
   "source": [
    "## Examples list \n",
    " \n",
    "[Example 1 - ERA5 Land Total precipitation data](#example1)  \n",
    "[Example 2 - ERA5 Temperature on pressure levels over Europe](#example2)  \n",
    "[Example 3 - Hourly ERA5 data in netcdf format](#example3)  \n",
    "[Example 4 - Hourly ERA5 Land data in grib format for small area](#example4)  \n",
    "[Example 5 - ERA5 Monthly data](#example5)  \n",
    "[Example 6 - ERA5 data on model levels from public datasets in MARS](#example6)   \n",
    "[Example 7 - ERA5 reanalysis - ensemble data on pressure levels](#example7)  \n",
    "[Example 8 - Satellite observation data](#example8)  \n",
    "[Example 9 - Climate projections data](#example9)      \n",
    "[Example 10 - Seasonal forecast](#example10) "
   ]
  },
  {
   "cell_type": "markdown",
   "metadata": {
    "slideshow": {
     "slide_type": "slide"
    }
   },
   "source": [
    "Before we start, we need to import cdsapi, [xarray](http://xarray.pydata.org/en/stable/) and datetime libraries"
   ]
  },
  {
   "cell_type": "code",
   "execution_count": null,
   "metadata": {
    "slideshow": {
     "slide_type": "fragment"
    }
   },
   "outputs": [],
   "source": [
    "import cdsapi\n",
    "from datetime import date, timedelta\n",
    "import xarray as xr"
   ]
  },
  {
   "cell_type": "code",
   "execution_count": null,
   "metadata": {
    "slideshow": {
     "slide_type": "fragment"
    }
   },
   "outputs": [],
   "source": [
    "c = cdsapi.Client()"
   ]
  },
  {
   "cell_type": "markdown",
   "metadata": {
    "slideshow": {
     "slide_type": "slide"
    }
   },
   "source": [
    "<a id='example1'></a>\n",
    "### Example 1 - ERA5 Land Total precipitation data\n",
    "Get the daily total precipitation data from ERA5 Land dataset for month of January 2012.  \n",
    "In ERA5 Land dataset total precipitation is archived as acumulations from start of the period, which in this case is from start of the day. So at 00h time it will contain daily precipitations.  \n",
    "ERA5 Land only has high resolution model, so there is no 'product_type' parameter."
   ]
  },
  {
   "cell_type": "code",
   "execution_count": null,
   "metadata": {
    "slideshow": {
     "slide_type": "subslide"
    }
   },
   "outputs": [],
   "source": [
    "c.retrieve(\n",
    "    'reanalysis-era5-land',\n",
    "    {\n",
    "        'variable':[\n",
    "            'total_precipitation'\n",
    "        ],\n",
    "        'year':'2012',\n",
    "        'month':'01',\n",
    "        'day':[\n",
    "            '01','02','03',\n",
    "            '04','05','06',\n",
    "            '07','08','09',\n",
    "            '10','11','12',\n",
    "            '13','14','15',\n",
    "            '16','17','18',\n",
    "            '19','20','21',\n",
    "            '22','23','24',\n",
    "            '25','26','27',\n",
    "            '28','29','30',\n",
    "            '31'\n",
    "        ],\n",
    "        'time': '00:00',\n",
    "        'format':'netcdf'\n",
    "    },\n",
    "    'data/total_precipitation_2012_01.nc')"
   ]
  },
  {
   "cell_type": "markdown",
   "metadata": {
    "slideshow": {
     "slide_type": "slide"
    }
   },
   "source": [
    "<a id='example2'></a>\n",
    "## Example 2 - ERA5 Temperature on pressure levels over Europe\n",
    "Get temperature at 850 hPa and 500 hPa for days between 15th and 17th August 2008 and times at 00, 06, 12 and 18 UTC. Save the result in separate daily netCDF files.  \n",
    "Note that instead of giving day, month and year separately, we can just give 'date'.  \n",
    "Get the data for Europe area. Just add **'area' : 'europe'**. Unfortunatelly this is the only shortcut word that I've found to work 🙁"
   ]
  },
  {
   "cell_type": "code",
   "execution_count": null,
   "metadata": {
    "slideshow": {
     "slide_type": "subslide"
    }
   },
   "outputs": [],
   "source": [
    "sdate = date(2008, 8, 15)   # start date\n",
    "edate = date(2008, 8, 18)   # end date\n",
    "\n",
    "delta = edate - sdate       # as timedelta\n",
    "\n",
    "for i in range(delta.days + 1):\n",
    "    d = sdate + timedelta(days=i)\n",
    "    d = str(d)\n",
    "\n",
    "    c.retrieve(\"reanalysis-era5-pressure-levels\",\n",
    "                       {\n",
    "                           \"variable\": \"temperature\",\n",
    "                           \"pressure_level\": ['850','500'],\n",
    "                           \"product_type\": \"reanalysis\",\n",
    "                           \"area\" : \"europe\",\n",
    "                           \"date\": d,\n",
    "                           \"time\": ['0','6','12','18'],\n",
    "                           \"format\": \"netcdf\"\n",
    "                       },\n",
    "                       \"data/ea_t_{day}.nc\".format(day=d)\n",
    "                       )"
   ]
  },
  {
   "cell_type": "markdown",
   "metadata": {
    "slideshow": {
     "slide_type": "slide"
    }
   },
   "source": [
    "<a id='example3'></a>\n",
    "### Example 3 - Hourly ERA5 data in GRIB format\n",
    "Get hourly data from ERA5 single level dataset for dates from 28th April to 3rd May 2018 for global area.  \n",
    "Get these variables:\n",
    "- wind gusts\n",
    "- minimum 2m temperature \n",
    "- maximum 2m temperature  \n",
    "\n",
    "In previous example we had a request for each day. This time we we make one request for all the dates.  \n",
    "Giving the list of dates is also the only way to get the data for different days in different months.  \n",
    "Instead of a whole list of numbers from 0 to 23, we can just put **'all'** for time.  \n",
    "\n",
    "The data from this example is used in the [Manipulating meteorological data](./Manipulating_meteorological_data_HiDALGO.ipynb) notebook in this tutorial repository.  \n",
    "If you are planning to do that tutorial too, please download both grib and NetCDF files.  \n",
    "Just replace **\"format\" : \"grib\"** with **\"format\" : \"netcdf\"**, and the extension of the file from **.grib** to **.nc**."
   ]
  },
  {
   "cell_type": "code",
   "execution_count": null,
   "metadata": {
    "slideshow": {
     "slide_type": "subslide"
    }
   },
   "outputs": [],
   "source": [
    "c.retrieve(\"reanalysis-era5-single-levels\",\n",
    "                       {\n",
    "                           \"variable\":[\"10m_wind_gust_since_previous_post_processing\",\n",
    "                                       \"maximum_2m_temperature_since_previous_post_processing\",\n",
    "                                       \"minimum_2m_temperature_since_previous_post_processing\"],\n",
    "                           \"product_type\": \"reanalysis\",\n",
    "                           \"date\": ['20180428',\n",
    "                                    '20180429',\n",
    "                                    '20180430',\n",
    "                                    '20180501',\n",
    "                                    '20180502',\n",
    "                                    '20180503'],\n",
    "                           \"time\": ['all'],\n",
    "                           \"grid\": [1,1],\n",
    "                           \"format\": \"grib\"\n",
    "                       },\n",
    "                       \"data/min_max_t_and_wind_gust.grib\"\n",
    "                       )"
   ]
  },
  {
   "cell_type": "markdown",
   "metadata": {
    "slideshow": {
     "slide_type": "slide"
    }
   },
   "source": [
    "<a id='example4'></a>\n",
    "### Example 4 - Hourly ERA5 Land data in grib format for small area\n",
    "Get hourly 2m temperature and u and v 10m wind component data for the whole year for years from 2010 to 2013. Each year is one request and saved in one grib file.  \n",
    "Using **'area'** keyword, get the data only for London area.  \n",
    "Don’t worry that some combinations don't exist (e.g., April 31), the API will ignore these fields.  \n",
    "\n",
    "💡 Be careful when using ERA5 Land data. It is very new dataset and it is structured differently than the rest of the ERA5.\n",
    "\n",
    "Note: **Even thogh the retrived data is very small because we want very small area, the requests themselves are very big, having a year of hourly data with 3 parameters. So it will run for at least 20 minutes. Don't run it at the webinar. Try it out later.**"
   ]
  },
  {
   "cell_type": "code",
   "execution_count": null,
   "metadata": {
    "slideshow": {
     "slide_type": "subslide"
    }
   },
   "outputs": [],
   "source": [
    "years = ['2010','2011','2012','2013']\n",
    "\n",
    "for year in years:\n",
    "    file_name = 'data/london_data_{y}.grib'.format{y=year}\n",
    "    if use_cds:\n",
    "        c = cdsapi.Client()\n",
    "        c.retrieve(    'reanalysis-era5-land',\n",
    "        {\n",
    "            'variable':[\n",
    "                '10m_u_component_of_wind',\n",
    "                '10m_v_component_of_wind',\n",
    "                '2m_temperature',\n",
    "            ],\n",
    "            'year':[\n",
    "                year         \n",
    "            ],\n",
    "            'month':[\n",
    "                '01','02','03',\n",
    "                '04','05','06',\n",
    "                '07','08','09',\n",
    "                '10','11','12'\n",
    "            ],\n",
    "            'day':[\n",
    "                '01','02','03',\n",
    "                '04','05','06',\n",
    "                '07','08','09',\n",
    "                '10','11','12',\n",
    "                '13','14','15',\n",
    "                '16','17','18',\n",
    "                '19','20','21',\n",
    "                '22','23','24',\n",
    "                '25','26','27',\n",
    "                '28','29','30',\n",
    "                '31'\n",
    "            ],\n",
    "            'time':[\n",
    "                '00:00','01:00','02:00',\n",
    "                '03:00','04:00','05:00',\n",
    "                '06:00','07:00','08:00',\n",
    "                '09:00','10:00','11:00',\n",
    "                '12:00','13:00','14:00',\n",
    "                '15:00','16:00','17:00',\n",
    "                '18:00','19:00','20:00',\n",
    "                '21:00','22:00','23:00'\n",
    "            ],\n",
    "            'format':'grib',\n",
    "            'area':[51,-1,52,1]\n",
    "                   },\n",
    "                   file_name)"
   ]
  },
  {
   "cell_type": "markdown",
   "metadata": {
    "slideshow": {
     "slide_type": "slide"
    }
   },
   "source": [
    "<a id='example5'></a>\n",
    "### Example 5 - ERA5 Reanalysis - Monthly data\n",
    "\n",
    "Get Monthly averaged 2m temperature for first 3 months of 2018 for a small area in grib format."
   ]
  },
  {
   "cell_type": "code",
   "execution_count": null,
   "metadata": {
    "slideshow": {
     "slide_type": "fragment"
    }
   },
   "outputs": [],
   "source": [
    "c.retrieve(\n",
    "    'reanalysis-era5-single-levels-monthly-means',\n",
    "    {\n",
    "        'format':'grib',\n",
    "        'product_type':'monthly_averaged_reanalysis',\n",
    "        'variable':'2m_temperature',\n",
    "        'area' : [42,19,17,24],\n",
    "        'year':'2018',\n",
    "        'month':['1','2','3'],\n",
    "        'time':'00:00'\n",
    "    },\n",
    "    'data/ERA5_monthly.grib')"
   ]
  },
  {
   "cell_type": "markdown",
   "metadata": {
    "slideshow": {
     "slide_type": "slide"
    }
   },
   "source": [
    "<a id='example6'></a>\n",
    "### Example 6 - ERA5 data on model levels from public datasets in MARS\n",
    "Get the data on Model levels from ERA5 complete data set.   \n",
    "Keep in mind that this data is not stored in CDS, but in public part of MARS archive with the access through CDS. Because of this you can expect queuing to last hours or even days.  \n",
    "💡 If the data you're interested contains **accumulated fields**, which are 'type'=FC you will need to provide **step** too.   \n",
    "💡 When retrieving data from **reanalysis-era5-complete** dataset **always make sure you have grid parameter** in your request, otherwise the retrieved data will be in default reduced Gaussian grid GRIB file.  \n",
    "\n",
    "**Don't run this example at the workshop. Try it out at home.**"
   ]
  },
  {
   "cell_type": "code",
   "execution_count": null,
   "metadata": {
    "slideshow": {
     "slide_type": "subslide"
    }
   },
   "outputs": [],
   "source": [
    "c.retrieve('reanalysis-era5-complete',{\n",
    "    'class':'ea',\n",
    "    'date':'20180525/to/20180605',\n",
    "    'area':'50/5/40/27',\n",
    "    'expver':'1',\n",
    "    'levelist': '1/to/137',\n",
    "    'levtype':'ml',\n",
    "    'param':'129/130/131/132/133/152',\n",
    "    'stream':'oper',\n",
    "    'time':'00:00:00/03:00:00/06:00:00/09:00:00/12:00:00/15:00:00/18:00:00/21:00:00',\n",
    "    'type':'an',\n",
    "    'grid':\"0.25/0.25\",\n",
    "},'data/ERA5-ml.grib')"
   ]
  },
  {
   "cell_type": "markdown",
   "metadata": {
    "slideshow": {
     "slide_type": "slide"
    }
   },
   "source": [
    "<a id='example7'></a>\n",
    "### Example 7 - ERA5 reanalysis - ensemble data on pressure levels\n",
    "Download temperature and relative humidity data on levels 300 and 500 hPa for European area for period from 5th to 7th May 2018. Download all ensemble members.  \n",
    "When we set the **porduct_type** to **ensemble_members** we will get all 10 ensemble members."
   ]
  },
  {
   "cell_type": "code",
   "execution_count": null,
   "metadata": {
    "slideshow": {
     "slide_type": "fragment"
    }
   },
   "outputs": [],
   "source": [
    "c.retrieve(\n",
    "    'reanalysis-era5-pressure-levels',\n",
    "    {\n",
    "        'product_type':'ensemble_members',\n",
    "        'variable':[\n",
    "            'relative_humidity','temperature'\n",
    "        ],\n",
    "        'pressure_level':[\n",
    "            '300','500'\n",
    "        ],\n",
    "        'year':'2018',\n",
    "        'month':[\n",
    "            '05'\n",
    "        ],\n",
    "        'day':[\n",
    "            '05','06','07'\n",
    "        ],\n",
    "        'time':[\n",
    "            '00:00','03:00','06:00',\n",
    "            '09:00','12:00','15:00',\n",
    "            '18:00','21:00'\n",
    "        ],\n",
    "        'area':[35,-10,52,25],\n",
    "        'format':'grib'\n",
    "    },\n",
    "    'data/ensemble_data_pl.grib')"
   ]
  },
  {
   "cell_type": "markdown",
   "metadata": {
    "slideshow": {
     "slide_type": "slide"
    }
   },
   "source": [
    "<a id='example8'></a>\n",
    "## Example 8 - Satellite data - Sea level anomaly\n",
    "\n",
    "Get the Sea level gridded data for the global ocean for three days in March 2018."
   ]
  },
  {
   "cell_type": "code",
   "execution_count": null,
   "metadata": {
    "slideshow": {
     "slide_type": "fragment"
    }
   },
   "outputs": [],
   "source": [
    "c.retrieve(\n",
    "    'satellite-sea-level-global',\n",
    "    {\n",
    "        'variable':'all',\n",
    "        'format':'zip',\n",
    "        'year':'2018',\n",
    "        'month':'03',\n",
    "        'day':['03', '04', '05']\n",
    "    },\n",
    "    'data/satellite.zip')"
   ]
  },
  {
   "cell_type": "markdown",
   "metadata": {
    "slideshow": {
     "slide_type": "slide"
    }
   },
   "source": [
    "<a id='example9'></a>\n",
    "## Example 9 - Climate projections data - 2m temperature and 2m Tmax\n",
    "\n",
    "Get 2m temperature and Maximum 2m temperature for last 24 hours from GFDL-CM3 (NOAA, USA) model, \n",
    "RCP 8.5 experiment and ensemble member r1i1p1 for 2020-2025 period.  \n",
    "\n",
    "💡 Always use Web download to check which combination of model, experiment and ensamble member is available for the period you're interested."
   ]
  },
  {
   "cell_type": "code",
   "execution_count": null,
   "metadata": {
    "slideshow": {
     "slide_type": "fragment"
    }
   },
   "outputs": [],
   "source": [
    "c.retrieve(\n",
    "    'projections-cmip5-monthly-single-levels',\n",
    "    {\n",
    "        'ensemble_member':'r1i1p1',\n",
    "        'format':'zip',\n",
    "        'variable':[\n",
    "            '2m_temperature','maximum_2m_temperature_in_the_last_24_hours'\n",
    "        ],\n",
    "        'model':'gfdl_cm3',\n",
    "        'experiment':'rcp_8_5',\n",
    "        'period':'202101-202512'\n",
    "    },\n",
    "    'data/climate_projection.zip')"
   ]
  },
  {
   "cell_type": "markdown",
   "metadata": {
    "slideshow": {
     "slide_type": "slide"
    }
   },
   "source": [
    "<a id='example10'></a>\n",
    "### Example 10 - Seasonal forecast\n",
    "Get the latest seasonal forecast anomalies on single levels from ECMWF and UK Met Office. We have to use the download form to know which System is available from which model for the period we want the forecast.  \n",
    "\n",
    "💡 Seasonal forecat data is not stored on CDS disks, but the requests go to the MARS archive, so it can be slow to retrieve this data.  \n",
    "\n",
    "**Do not run this example at the webinar. Try it out later.**"
   ]
  },
  {
   "cell_type": "code",
   "execution_count": null,
   "metadata": {
    "slideshow": {
     "slide_type": "fragment"
    }
   },
   "outputs": [],
   "source": [
    "c.retrieve(\n",
    "    'seasonal-postprocessed-single-levels',\n",
    "    {\n",
    "        'format':'grib',\n",
    "        'originating_centre':[\n",
    "            'ecmwf','ukmo'\n",
    "        ],\n",
    "        'system':[\n",
    "            '5','14'\n",
    "        ],\n",
    "        'variable':'2m_temperature_anomaly',\n",
    "        'product_type':'monthly_mean',\n",
    "        'year':'2019',\n",
    "        'month':'05',\n",
    "        'leadtime_month':[\n",
    "            '1','2'\n",
    "        ]\n",
    "    },\n",
    "    'data/seasonal.grib')"
   ]
  }
 ],
 "metadata": {
  "celltoolbar": "Raw Cell Format",
  "kernelspec": {
   "display_name": "Python 3",
   "language": "python",
   "name": "python3"
  },
  "language_info": {
   "codemirror_mode": {
    "name": "ipython",
    "version": 3
   },
   "file_extension": ".py",
   "mimetype": "text/x-python",
   "name": "python",
   "nbconvert_exporter": "python",
   "pygments_lexer": "ipython3",
   "version": "3.7.6"
  }
 },
 "nbformat": 4,
 "nbformat_minor": 2
}
